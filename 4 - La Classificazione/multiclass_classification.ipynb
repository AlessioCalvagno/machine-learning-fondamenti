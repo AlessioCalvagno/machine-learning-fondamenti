{
  "nbformat": 4,
  "nbformat_minor": 0,
  "metadata": {
    "colab": {
      "name": "multiclass_classification.ipynb",
      "provenance": [],
      "authorship_tag": "ABX9TyPKS4Ir4mv8CkAnHVz9GXg4",
      "include_colab_link": true
    },
    "kernelspec": {
      "name": "python3",
      "display_name": "Python 3"
    },
    "language_info": {
      "name": "python"
    }
  },
  "cells": [
    {
      "cell_type": "markdown",
      "metadata": {
        "id": "view-in-github",
        "colab_type": "text"
      },
      "source": [
        "<a href=\"https://colab.research.google.com/github/ProfAI/machine-learning-fondamenti/blob/main/4%20-%20La%20Classificazione/multiclass_classification.ipynb\" target=\"_parent\"><img src=\"https://colab.research.google.com/assets/colab-badge.svg\" alt=\"Open In Colab\"/></a>"
      ]
    },
    {
      "cell_type": "markdown",
      "source": [
        "# La Classificazione Multiclasse"
      ],
      "metadata": {
        "id": "GmRDPLkL45cq"
      }
    },
    {
      "cell_type": "code",
      "execution_count": 9,
      "metadata": {
        "id": "_N3eQkxY4406"
      },
      "outputs": [],
      "source": [
        "import numpy as np\n",
        "import pandas as pd\n",
        "import matplotlib.pyplot as plt\n",
        "import seaborn as sns\n",
        "from sklearn.datasets import make_classification\n",
        "from sklearn.model_selection import train_test_split\n",
        "from sklearn.linear_model import LogisticRegression\n",
        "from sklearn.metrics import classification_report, roc_auc_score"
      ]
    },
    {
      "cell_type": "markdown",
      "source": [
        "### Generiamo il dataset"
      ],
      "metadata": {
        "id": "45BOEWrM5Z1p"
      }
    },
    {
      "cell_type": "code",
      "source": [
        "X, y = make_classification(n_samples=100, n_features=4, n_informative=4, n_redundant=0, n_repeated=0, n_classes=3, random_state=0)"
      ],
      "metadata": {
        "id": "X_yrTE4s4_Ss"
      },
      "execution_count": 3,
      "outputs": []
    },
    {
      "cell_type": "markdown",
      "source": [
        "### Creiamo il modello e valuatiamo il modello - Tecnica OvR"
      ],
      "metadata": {
        "id": "Ix72pcE_5coB"
      }
    },
    {
      "cell_type": "code",
      "source": [
        "X_train, X_test, y_train, y_test = train_test_split(X, y, test_size=.3)"
      ],
      "metadata": {
        "id": "bFXZpgsD5FAd"
      },
      "execution_count": 4,
      "outputs": []
    },
    {
      "cell_type": "code",
      "source": [
        "lr = LogisticRegression(multi_class=\"ovr\")\n",
        "lr.fit(X_train, y_train)"
      ],
      "metadata": {
        "colab": {
          "base_uri": "https://localhost:8080/"
        },
        "id": "CYwJKBKC5jp4",
        "outputId": "22fcd474-db7d-428e-b5ad-d2385ea9c3a5"
      },
      "execution_count": 5,
      "outputs": [
        {
          "output_type": "execute_result",
          "data": {
            "text/plain": [
              "LogisticRegression(multi_class='ovr')"
            ]
          },
          "metadata": {},
          "execution_count": 5
        }
      ]
    },
    {
      "cell_type": "code",
      "source": [
        "y_pred_train = lr.predict(X_train)\n",
        "y_pred_test = lr.predict(X_test)\n",
        "print(\"TRAIN REPORT\")\n",
        "print(classification_report(y_train, y_pred_train))\n",
        "print(\"TEST REPORT\")\n",
        "print(classification_report(y_test, y_pred_test))"
      ],
      "metadata": {
        "colab": {
          "base_uri": "https://localhost:8080/"
        },
        "id": "wIXL1xuW6kU1",
        "outputId": "192be892-9072-478b-b92f-016a258a251a"
      },
      "execution_count": 6,
      "outputs": [
        {
          "output_type": "stream",
          "name": "stdout",
          "text": [
            "TRAIN REPORT\n",
            "              precision    recall  f1-score   support\n",
            "\n",
            "           0       0.77      0.91      0.83        22\n",
            "           1       0.62      0.57      0.59        23\n",
            "           2       0.61      0.56      0.58        25\n",
            "\n",
            "    accuracy                           0.67        70\n",
            "   macro avg       0.67      0.68      0.67        70\n",
            "weighted avg       0.66      0.67      0.66        70\n",
            "\n",
            "TEST REPORT\n",
            "              precision    recall  f1-score   support\n",
            "\n",
            "           0       0.80      0.92      0.86        13\n",
            "           1       0.71      0.56      0.63         9\n",
            "           2       0.75      0.75      0.75         8\n",
            "\n",
            "    accuracy                           0.77        30\n",
            "   macro avg       0.75      0.74      0.74        30\n",
            "weighted avg       0.76      0.77      0.76        30\n",
            "\n"
          ]
        }
      ]
    },
    {
      "cell_type": "code",
      "source": [
        "y_proba_train = lr.predict_proba(X_train)\n",
        "roc_auc_score(y_train, y_proba_train, multi_class=\"ovo\", average=\"macro\")"
      ],
      "metadata": {
        "colab": {
          "base_uri": "https://localhost:8080/"
        },
        "id": "X3rpWckPxWN8",
        "outputId": "53267cfc-b130-46cc-c066-e6973f4a04de"
      },
      "execution_count": 15,
      "outputs": [
        {
          "output_type": "execute_result",
          "data": {
            "text/plain": [
              "0.8529249011857708"
            ]
          },
          "metadata": {},
          "execution_count": 15
        }
      ]
    },
    {
      "cell_type": "code",
      "source": [
        "y_proba_test = lr.predict_proba(X_test)\n",
        "roc_auc_score(y_test, y_proba_test, multi_class=\"ovo\", average=\"macro\")"
      ],
      "metadata": {
        "colab": {
          "base_uri": "https://localhost:8080/"
        },
        "id": "tvTFZoV6w3gf",
        "outputId": "0ed2a876-6443-44b4-9ae6-c8bc19be6a86"
      },
      "execution_count": 16,
      "outputs": [
        {
          "output_type": "execute_result",
          "data": {
            "text/plain": [
              "0.8409900284900286"
            ]
          },
          "metadata": {},
          "execution_count": 16
        }
      ]
    },
    {
      "cell_type": "markdown",
      "source": [
        "### Creiamo il modello e valuatiamo il modello - Tecnica Multinomial"
      ],
      "metadata": {
        "id": "aHoGf5iI6TTH"
      }
    },
    {
      "cell_type": "code",
      "source": [
        "lr = LogisticRegression(multi_class=\"multinomial\")\n",
        "lr.fit(X_train, y_train)"
      ],
      "metadata": {
        "colab": {
          "base_uri": "https://localhost:8080/"
        },
        "id": "ogzloZif5k-x",
        "outputId": "6e1a9f5e-a21d-4c16-fac4-d971d431224f"
      },
      "execution_count": 18,
      "outputs": [
        {
          "output_type": "execute_result",
          "data": {
            "text/plain": [
              "LogisticRegression(multi_class='multinomial')"
            ]
          },
          "metadata": {},
          "execution_count": 18
        }
      ]
    },
    {
      "cell_type": "code",
      "source": [
        "y_pred_train = lr.predict(X_train)\n",
        "y_pred_test = lr.predict(X_test)\n",
        "print(\"TRAIN REPORT\")\n",
        "print(classification_report(y_train, y_pred_train))\n",
        "print(\"TEST REPORT\")\n",
        "print(classification_report(y_test, y_pred_test))"
      ],
      "metadata": {
        "id": "r8rL6mKC64C4",
        "colab": {
          "base_uri": "https://localhost:8080/"
        },
        "outputId": "1595d107-11a2-4342-c178-5f2f7a8f97dd"
      },
      "execution_count": 19,
      "outputs": [
        {
          "output_type": "stream",
          "name": "stdout",
          "text": [
            "TRAIN REPORT\n",
            "              precision    recall  f1-score   support\n",
            "\n",
            "           0       0.80      0.91      0.85        22\n",
            "           1       0.61      0.61      0.61        23\n",
            "           2       0.64      0.56      0.60        25\n",
            "\n",
            "    accuracy                           0.69        70\n",
            "   macro avg       0.68      0.69      0.69        70\n",
            "weighted avg       0.68      0.69      0.68        70\n",
            "\n",
            "TEST REPORT\n",
            "              precision    recall  f1-score   support\n",
            "\n",
            "           0       0.73      0.85      0.79        13\n",
            "           1       0.67      0.44      0.53         9\n",
            "           2       0.67      0.75      0.71         8\n",
            "\n",
            "    accuracy                           0.70        30\n",
            "   macro avg       0.69      0.68      0.67        30\n",
            "weighted avg       0.70      0.70      0.69        30\n",
            "\n"
          ]
        }
      ]
    },
    {
      "cell_type": "code",
      "source": [
        "y_proba_train = lr.predict_proba(X_train)\n",
        "roc_auc_score(y_train, y_proba_train, multi_class=\"ovo\", average=\"macro\")"
      ],
      "metadata": {
        "id": "VdPDuqXBpxvi",
        "outputId": "a77247a3-4134-4201-b630-b41c69f18dc8",
        "colab": {
          "base_uri": "https://localhost:8080/"
        }
      },
      "execution_count": 20,
      "outputs": [
        {
          "output_type": "execute_result",
          "data": {
            "text/plain": [
              "0.8513043478260869"
            ]
          },
          "metadata": {},
          "execution_count": 20
        }
      ]
    },
    {
      "cell_type": "code",
      "source": [
        "y_proba_test = lr.predict_proba(X_test)\n",
        "roc_auc_score(y_test, y_proba_test, multi_class=\"ovo\", average=\"macro\")"
      ],
      "metadata": {
        "id": "iRxMltnbpynh",
        "outputId": "ed35a5c4-e458-486d-b5a1-d644a6a23d79",
        "colab": {
          "base_uri": "https://localhost:8080/"
        }
      },
      "execution_count": 22,
      "outputs": [
        {
          "output_type": "execute_result",
          "data": {
            "text/plain": [
              "0.8438390313390314"
            ]
          },
          "metadata": {},
          "execution_count": 22
        }
      ]
    }
  ]
}
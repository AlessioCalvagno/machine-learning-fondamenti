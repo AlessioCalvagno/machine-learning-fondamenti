{
 "cells": [
  {
   "cell_type": "markdown",
   "id": "d0a25885",
   "metadata": {},
   "source": [
    "# Regolarizzazione: Esercitazione\n",
    "Per questa esercitazione dovrai verificare la presenza di overfitting e regolarizzare un modello di regressione polinomiale di secondo grado. Il modello utilizzerà il Boston Housing Dataset, che puoi scaricare [da qui](https://raw.githubusercontent.com/ProfAI/machine-learning-fondamenti/main/datasets/housing.csv), per stimare il valore di abitazioni.\n",
    "\n",
    "Il modello dovrà avere:\n",
    "1. Un R2 sul set di test di almeno 0.75.\n",
    "2. Un R2 calcolato tramite cross validation di almeno 0.8.\n",
    "\n",
    "Inoltre, la differenza tra R2 sul set di addestramento e sul set di test deve essere inferiore del 15% (ad esempio, per un R2 sul set di addestramento di 1, l'R2 sul set di test non deve essere inferiore a 0.85).\n",
    "\n"
   ]
  },
  {
   "cell_type": "code",
   "execution_count": 1,
   "id": "79832e85",
   "metadata": {},
   "outputs": [],
   "source": [
    "RANDOM_SEED = 0 #for reproducibility"
   ]
  },
  {
   "cell_type": "code",
   "execution_count": 2,
   "id": "95df16be",
   "metadata": {},
   "outputs": [
    {
     "data": {
      "text/html": [
       "<div>\n",
       "<style scoped>\n",
       "    .dataframe tbody tr th:only-of-type {\n",
       "        vertical-align: middle;\n",
       "    }\n",
       "\n",
       "    .dataframe tbody tr th {\n",
       "        vertical-align: top;\n",
       "    }\n",
       "\n",
       "    .dataframe thead th {\n",
       "        text-align: right;\n",
       "    }\n",
       "</style>\n",
       "<table border=\"1\" class=\"dataframe\">\n",
       "  <thead>\n",
       "    <tr style=\"text-align: right;\">\n",
       "      <th></th>\n",
       "      <th>CRIM</th>\n",
       "      <th>ZN</th>\n",
       "      <th>INDUS</th>\n",
       "      <th>CHAS</th>\n",
       "      <th>NOX</th>\n",
       "      <th>RM</th>\n",
       "      <th>AGE</th>\n",
       "      <th>DIS</th>\n",
       "      <th>RAD</th>\n",
       "      <th>TAX</th>\n",
       "      <th>PTRATIO</th>\n",
       "      <th>B</th>\n",
       "      <th>LSTAT</th>\n",
       "      <th>PRICE</th>\n",
       "    </tr>\n",
       "  </thead>\n",
       "  <tbody>\n",
       "    <tr>\n",
       "      <th>0</th>\n",
       "      <td>0.00632</td>\n",
       "      <td>18.0</td>\n",
       "      <td>2.31</td>\n",
       "      <td>0.0</td>\n",
       "      <td>0.538</td>\n",
       "      <td>6.575</td>\n",
       "      <td>65.2</td>\n",
       "      <td>4.0900</td>\n",
       "      <td>1.0</td>\n",
       "      <td>296.0</td>\n",
       "      <td>15.3</td>\n",
       "      <td>396.90</td>\n",
       "      <td>4.98</td>\n",
       "      <td>24.0</td>\n",
       "    </tr>\n",
       "    <tr>\n",
       "      <th>1</th>\n",
       "      <td>0.02731</td>\n",
       "      <td>0.0</td>\n",
       "      <td>7.07</td>\n",
       "      <td>0.0</td>\n",
       "      <td>0.469</td>\n",
       "      <td>6.421</td>\n",
       "      <td>78.9</td>\n",
       "      <td>4.9671</td>\n",
       "      <td>2.0</td>\n",
       "      <td>242.0</td>\n",
       "      <td>17.8</td>\n",
       "      <td>396.90</td>\n",
       "      <td>9.14</td>\n",
       "      <td>21.6</td>\n",
       "    </tr>\n",
       "    <tr>\n",
       "      <th>2</th>\n",
       "      <td>0.02729</td>\n",
       "      <td>0.0</td>\n",
       "      <td>7.07</td>\n",
       "      <td>0.0</td>\n",
       "      <td>0.469</td>\n",
       "      <td>7.185</td>\n",
       "      <td>61.1</td>\n",
       "      <td>4.9671</td>\n",
       "      <td>2.0</td>\n",
       "      <td>242.0</td>\n",
       "      <td>17.8</td>\n",
       "      <td>392.83</td>\n",
       "      <td>4.03</td>\n",
       "      <td>34.7</td>\n",
       "    </tr>\n",
       "    <tr>\n",
       "      <th>3</th>\n",
       "      <td>0.03237</td>\n",
       "      <td>0.0</td>\n",
       "      <td>2.18</td>\n",
       "      <td>0.0</td>\n",
       "      <td>0.458</td>\n",
       "      <td>6.998</td>\n",
       "      <td>45.8</td>\n",
       "      <td>6.0622</td>\n",
       "      <td>3.0</td>\n",
       "      <td>222.0</td>\n",
       "      <td>18.7</td>\n",
       "      <td>394.63</td>\n",
       "      <td>2.94</td>\n",
       "      <td>33.4</td>\n",
       "    </tr>\n",
       "    <tr>\n",
       "      <th>4</th>\n",
       "      <td>0.06905</td>\n",
       "      <td>0.0</td>\n",
       "      <td>2.18</td>\n",
       "      <td>0.0</td>\n",
       "      <td>0.458</td>\n",
       "      <td>7.147</td>\n",
       "      <td>54.2</td>\n",
       "      <td>6.0622</td>\n",
       "      <td>3.0</td>\n",
       "      <td>222.0</td>\n",
       "      <td>18.7</td>\n",
       "      <td>396.90</td>\n",
       "      <td>5.33</td>\n",
       "      <td>36.2</td>\n",
       "    </tr>\n",
       "  </tbody>\n",
       "</table>\n",
       "</div>"
      ],
      "text/plain": [
       "      CRIM    ZN  INDUS  CHAS    NOX     RM   AGE     DIS  RAD    TAX  \\\n",
       "0  0.00632  18.0   2.31   0.0  0.538  6.575  65.2  4.0900  1.0  296.0   \n",
       "1  0.02731   0.0   7.07   0.0  0.469  6.421  78.9  4.9671  2.0  242.0   \n",
       "2  0.02729   0.0   7.07   0.0  0.469  7.185  61.1  4.9671  2.0  242.0   \n",
       "3  0.03237   0.0   2.18   0.0  0.458  6.998  45.8  6.0622  3.0  222.0   \n",
       "4  0.06905   0.0   2.18   0.0  0.458  7.147  54.2  6.0622  3.0  222.0   \n",
       "\n",
       "   PTRATIO       B  LSTAT  PRICE  \n",
       "0     15.3  396.90   4.98   24.0  \n",
       "1     17.8  396.90   9.14   21.6  \n",
       "2     17.8  392.83   4.03   34.7  \n",
       "3     18.7  394.63   2.94   33.4  \n",
       "4     18.7  396.90   5.33   36.2  "
      ]
     },
     "execution_count": 2,
     "metadata": {},
     "output_type": "execute_result"
    }
   ],
   "source": [
    "#data import\n",
    "import pandas as pd\n",
    "import numpy as np\n",
    "\n",
    "URL = \"https://raw.githubusercontent.com/ProfAI/machine-learning-fondamenti/main/datasets/housing.csv\"\n",
    "\n",
    "data = pd.read_csv(URL,index_col=0)\n",
    "data.head()"
   ]
  },
  {
   "cell_type": "code",
   "execution_count": 3,
   "id": "d5802ea4",
   "metadata": {},
   "outputs": [],
   "source": [
    "#modello di regressione polinomiale di 2 grado -> ho bisogno del \n",
    "#PolynomialFeatures\n",
    "from sklearn.preprocessing import PolynomialFeatures\n",
    "\n",
    "X = data.drop(\"PRICE\", axis = 1).values\n",
    "y = data[\"PRICE\"].values\n",
    "\n",
    "pf = PolynomialFeatures(2)\n",
    "\n",
    "#X_p = pf.fit_transform(X)\n",
    "#pf.get_feature_names_out()"
   ]
  },
  {
   "cell_type": "code",
   "execution_count": 4,
   "id": "d74d2371",
   "metadata": {},
   "outputs": [],
   "source": [
    "from sklearn.metrics import mean_squared_error, r2_score\n",
    "def evaluate_model(model, X, y):\n",
    "    \n",
    "    y_pred = model.predict(X)\n",
    "    \n",
    "    mse = mean_squared_error(y,y_pred)\n",
    "    r2 = r2_score(y,y_pred)\n",
    "    print(f\"MSE: {mse:.3f}\\nR2: {r2:.3f}\")"
   ]
  },
  {
   "cell_type": "markdown",
   "id": "9c8985a1",
   "metadata": {},
   "source": [
    "Prova senza regolarizzazione"
   ]
  },
  {
   "cell_type": "code",
   "execution_count": 5,
   "id": "ea6c3398",
   "metadata": {},
   "outputs": [
    {
     "name": "stdout",
     "output_type": "stream",
     "text": [
      "Polynomial regression, without regularization - Hold out\n",
      "Train set:\n",
      "MSE: 4.100\n",
      "R2: 0.952\n",
      "Test set:\n",
      "MSE: 30.034\n",
      "R2: 0.639\n"
     ]
    }
   ],
   "source": [
    "from sklearn.linear_model import LinearRegression, Lasso, Ridge\n",
    "from sklearn.model_selection import train_test_split, cross_validate\n",
    "from sklearn.preprocessing import StandardScaler\n",
    "\n",
    "#train test split\n",
    "X_train, X_test, y_train, y_test = train_test_split(X,y,test_size=0.3,\n",
    "                                                   random_state = RANDOM_SEED)\n",
    "\n",
    "X_train_p = pf.fit_transform(X_train)\n",
    "X_test_p = pf.transform(X_test) #qui solo transform?\n",
    "\n",
    "#uso scaling per portare le variabili su stessa scala.\n",
    "#uso standard scaler per conservare le info sugli outlier e mantenere\n",
    "#distribuzione dei dati.\n",
    "\n",
    "ss = StandardScaler()\n",
    "X_train_p = ss.fit_transform(X_train_p)\n",
    "X_test_p = ss.transform(X_test_p)\n",
    "\n",
    "lr = LinearRegression()\n",
    "\n",
    "lr.fit(X_train_p,y_train)\n",
    "\n",
    "print(\"Polynomial regression, without regularization - Hold out\")\n",
    "print(\"Train set:\")\n",
    "evaluate_model(lr,X_train_p,y_train)\n",
    "print(\"Test set:\")\n",
    "evaluate_model(lr,X_test_p,y_test)"
   ]
  },
  {
   "cell_type": "markdown",
   "id": "c565c16b",
   "metadata": {},
   "source": [
    "Tra i due set ho differenza di $R^2$ di circa $30\\%$.\n",
    "Sul test set ho $R^2=65\\%$; Devo portarlo almeno al $75\\%$."
   ]
  },
  {
   "cell_type": "markdown",
   "id": "d9f5b8b3",
   "metadata": {},
   "source": [
    "Valutazione con la cross validazione."
   ]
  },
  {
   "cell_type": "code",
   "execution_count": 6,
   "id": "09dbb7cc",
   "metadata": {},
   "outputs": [
    {
     "name": "stdout",
     "output_type": "stream",
     "text": [
      "Polynomial regression, without regularization - KFold cross validation\n",
      "Train set:\n",
      "MSE:6.733\n",
      "R2: 0.920\n",
      "Test set:\n",
      "MSE:22.025\n",
      "R2: 0.732\n"
     ]
    }
   ],
   "source": [
    "from sklearn.model_selection import KFold\n",
    "\n",
    "mse_train_scores=np.array([])\n",
    "mse_test_scores=np.array([])\n",
    "r2_train_scores=np.array([])\n",
    "r2_test_scores=np.array([])\n",
    "\n",
    "#nella cross validazione provo con k = 5\n",
    "kf = KFold(n_splits = 5, shuffle=True, random_state = RANDOM_SEED)\n",
    "\n",
    "for train_index, test_index in kf.split(X):\n",
    "    X_train = X[train_index]\n",
    "    X_test = X[test_index]\n",
    "    \n",
    "    y_train = y[train_index]\n",
    "    y_test = y[test_index]\n",
    "    \n",
    "    X_train_p = pf.fit_transform(X_train)\n",
    "    X_test_p = pf.transform(X_test)\n",
    "    \n",
    "    ss = StandardScaler()\n",
    "    X_train_p = ss.fit_transform(X_train_p)\n",
    "    X_test_p = ss.transform(X_test_p)\n",
    "    \n",
    "    lr = LinearRegression()\n",
    "    lr = lr.fit(X_train_p,y_train)\n",
    "    \n",
    "    y_train_predict = lr.predict(X_train_p)\n",
    "    y_test_predict = lr.predict(X_test_p)\n",
    "    \n",
    "    mse_train_scores = np.append(mse_train_scores, mean_squared_error(y_train, y_train_predict))\n",
    "    #mse_train_scores.append(mean_squared_error(y_train, y_train_predict))\n",
    "    r2_train_scores = np.append(r2_train_scores, r2_score(y_train, y_train_predict))\n",
    "    #r2_train_scores.append(r2_score(y_train, y_train_predict))\n",
    "    \n",
    "    mse_test_scores = np.append(mse_test_scores, mean_squared_error(y_test, y_test_predict))\n",
    "    #mse_test_scores.append(mean_squared_error(y_test, y_test_predict))\n",
    "    r2_test_scores = np.append(r2_test_scores, r2_score(y_test, y_test_predict))\n",
    "    #r2_test_scores.append(r2_score(y_test, y_test_predict))\n",
    "    \n",
    "    #end for\n",
    "\n",
    "mse_train = np.mean(mse_train_scores)\n",
    "r2_train = np.mean(r2_train_scores)\n",
    "mse_test = np.mean(mse_test_scores)\n",
    "r2_test = np.mean(r2_test_scores)\n",
    "\n",
    "print(\"Polynomial regression, without regularization - KFold cross validation\")\n",
    "print(\"Train set:\")\n",
    "print(f\"MSE:{mse_train:.3f}\\nR2: {r2_train:.3f}\")\n",
    "print(\"Test set:\")\n",
    "print(f\"MSE:{mse_test:.3f}\\nR2: {r2_test:.3f}\")"
   ]
  },
  {
   "cell_type": "markdown",
   "id": "7a2f619c",
   "metadata": {},
   "source": [
    "Con cross validazione del modello polinomiale standard ottengo una differenza tra i due $R^2$ del $20\\%$ circa.\n",
    "Anche l'MSE è abbastanza diverso -> ho overfitting.\n",
    "\n",
    "È richiesto un $R^2$ di almeno $80\\%$ sul test set."
   ]
  },
  {
   "cell_type": "markdown",
   "id": "9ce99713",
   "metadata": {},
   "source": [
    "### regolarizzazioni varie\n",
    "ripeto il processo di valutazione con il modello Lasso e Ridge.\n",
    "Mi aspetto situazione migliore con il modello Lasso (L1)."
   ]
  },
  {
   "cell_type": "code",
   "execution_count": 7,
   "id": "1345271a",
   "metadata": {},
   "outputs": [
    {
     "name": "stdout",
     "output_type": "stream",
     "text": [
      "Polynomial regression, L2 regularization - Hold out\n",
      "Train set:\n",
      "MSE: 9.667\n",
      "R2: 0.886\n",
      "Test set:\n",
      "MSE: 17.933\n",
      "R2: 0.785\n"
     ]
    }
   ],
   "source": [
    "#train test split\n",
    "X_train, X_test, y_train, y_test = train_test_split(X,y,test_size=0.3,\n",
    "                                                   random_state = RANDOM_SEED)\n",
    "\n",
    "X_train_p = pf.fit_transform(X_train)\n",
    "X_test_p = pf.transform(X_test)\n",
    "\n",
    "ss = StandardScaler()\n",
    "X_train_p = ss.fit_transform(X_train_p)\n",
    "X_test_p = ss.transform(X_test_p)\n",
    "\n",
    "#uso valore di alpha = 15, ma in realtà bisognerebbe ragionarci sù,\n",
    "#valutando anche la scala su cui si muovono le variabili e i pesi.\n",
    "#Per questo motivo è meglio usare uno scaling delle features.\n",
    "model = Ridge(alpha=15.)\n",
    "model.fit(X_train_p, y_train)\n",
    "\n",
    "print(\"Polynomial regression, L2 regularization - Hold out\")\n",
    "print(\"Train set:\")\n",
    "evaluate_model(model,X_train_p,y_train)\n",
    "print(\"Test set:\")\n",
    "evaluate_model(model,X_test_p,y_test)"
   ]
  },
  {
   "cell_type": "markdown",
   "id": "66f29a65",
   "metadata": {},
   "source": [
    "Con regolarizzazione L2 ottengo valori più simili tra test set e train set, rispetto ai casi precedenti.\n",
    "Questo indica che l'overfitting è ridotto.\n",
    "La differenza tra i due $R^2$ è attorno $10\\%$ con hold-out. \n",
    "\n",
    "Vediamo cosa succede con L1."
   ]
  },
  {
   "cell_type": "code",
   "execution_count": 8,
   "id": "9d7db8e0",
   "metadata": {},
   "outputs": [
    {
     "name": "stdout",
     "output_type": "stream",
     "text": [
      "Polynomial regression, L1 regularization - Hold out\n",
      "Train set:\n",
      "MSE: 56.913\n",
      "R2: 0.329\n",
      "Test set:\n",
      "MSE: 57.555\n",
      "R2: 0.309\n"
     ]
    }
   ],
   "source": [
    "#train test split\n",
    "X_train, X_test, y_train, y_test = train_test_split(X,y,test_size=0.3,\n",
    "                                                   random_state = RANDOM_SEED)\n",
    "\n",
    "X_train_p = pf.fit_transform(X_train)\n",
    "X_test_p = pf.transform(X_test)\n",
    "\n",
    "ss = StandardScaler()\n",
    "X_train_p = ss.fit_transform(X_train_p)\n",
    "X_test_p = ss.transform(X_test_p)\n",
    "\n",
    "#uso valore di alpha = 5, ma in realtà bisognerebbe ragionarci sù,\n",
    "#valutando anche la scala su cui si muovono le variabili e i pesi.\n",
    "#Per questo motivo è meglio usare uno scaling delle features.\n",
    "model = Lasso(alpha=5.) \n",
    "#per il lasso uso valore più piccolo del ridge, \n",
    "#perchè tale algoritmo è più forte del ridge.\n",
    "model.fit(X_train_p, y_train)\n",
    "\n",
    "print(\"Polynomial regression, L1 regularization - Hold out\")\n",
    "print(\"Train set:\")\n",
    "evaluate_model(model,X_train_p,y_train)\n",
    "print(\"Test set:\")\n",
    "evaluate_model(model,X_test_p,y_test)"
   ]
  },
  {
   "cell_type": "markdown",
   "id": "595501e0",
   "metadata": {},
   "source": [
    "Con la regolarizzazione L1 ottengo valori simili tra train e test, sia per $R^2$ che per MSE, il che indica un overfitting ben gestito. \n",
    "D'altra parte però le performance non sono buone, infatti MSE è elevato e $R^2$ è basso. \n",
    "\n",
    "Questo significa che la regolarizzazione è stata troppo forte e quindi sono in underfitting ora. Bisogna usare un alpha ancora più piccolo."
   ]
  },
  {
   "cell_type": "markdown",
   "id": "4fa86d7d",
   "metadata": {},
   "source": [
    "Seleziono come modello il Ridge. Non uso il LASSO perchè è troppo forte e può portare facilmente ad underfitting.\n",
    "Valuto questo modello con $\\alpha=15$ con KFold."
   ]
  },
  {
   "cell_type": "code",
   "execution_count": 9,
   "id": "0b6395a7",
   "metadata": {},
   "outputs": [
    {
     "name": "stdout",
     "output_type": "stream",
     "text": [
      "Polynomial regression, L2 regularization - KFold cross validation\n",
      "Train set:\n",
      "MSE:10.913\n",
      "R2: 0.870\n",
      "Test set:\n",
      "MSE:14.496\n",
      "R2: 0.821\n"
     ]
    }
   ],
   "source": [
    "mse_train_scores=np.array([])\n",
    "mse_test_scores=np.array([])\n",
    "r2_train_scores=np.array([])\n",
    "r2_test_scores=np.array([])\n",
    "\n",
    "#nella cross validazione provo con k = 5\n",
    "kf = KFold(n_splits = 5, shuffle=True, random_state = RANDOM_SEED)\n",
    "\n",
    "for train_index, test_index in kf.split(X):\n",
    "    X_train = X[train_index]\n",
    "    X_test = X[test_index]\n",
    "    \n",
    "    y_train = y[train_index]\n",
    "    y_test = y[test_index]\n",
    "    \n",
    "    X_train_p = pf.fit_transform(X_train)\n",
    "    X_test_p = pf.transform(X_test)\n",
    "    \n",
    "    ss = StandardScaler()\n",
    "    X_train_p = ss.fit_transform(X_train_p)\n",
    "    X_test_p = ss.transform(X_test_p)\n",
    "    \n",
    "    mod_k_fold = Ridge(alpha=15.)\n",
    "    mod_k_fold.fit(X_train_p,y_train)\n",
    "    \n",
    "    y_train_predict = mod_k_fold.predict(X_train_p)\n",
    "    y_test_predict = mod_k_fold.predict(X_test_p)\n",
    "    \n",
    "    mse_train_scores = np.append(mse_train_scores, mean_squared_error(y_train, y_train_predict))\n",
    "    #mse_train_scores.append(mean_squared_error(y_train, y_train_predict))\n",
    "    r2_train_scores = np.append(r2_train_scores, r2_score(y_train, y_train_predict))\n",
    "    #r2_train_scores.append(r2_score(y_train, y_train_predict))\n",
    "    \n",
    "    mse_test_scores = np.append(mse_test_scores, mean_squared_error(y_test, y_test_predict))\n",
    "    #mse_test_scores.append(mean_squared_error(y_test, y_test_predict))\n",
    "    r2_test_scores = np.append(r2_test_scores, r2_score(y_test, y_test_predict))\n",
    "    #r2_test_scores.append(r2_score(y_test, y_test_predict))\n",
    "    \n",
    "    #end for\n",
    "\n",
    "mse_train = np.mean(mse_train_scores)\n",
    "r2_train = np.mean(r2_train_scores)\n",
    "mse_test = np.mean(mse_test_scores)\n",
    "r2_test = np.mean(r2_test_scores)\n",
    "\n",
    "print(\"Polynomial regression, L2 regularization - KFold cross validation\")\n",
    "print(\"Train set:\")\n",
    "print(f\"MSE:{mse_train:.3f}\\nR2: {r2_train:.3f}\")\n",
    "print(\"Test set:\")\n",
    "print(f\"MSE:{mse_test:.3f}\\nR2: {r2_test:.3f}\")"
   ]
  },
  {
   "cell_type": "markdown",
   "id": "d280167b",
   "metadata": {},
   "source": [
    "Questo modello rispetta le specifiche della consegna.\n",
    "\n",
    "Con hold-out si ha $R^2=78\\%$ sul test set.\n",
    "\n",
    "Con KFold si ha $R^2=82\\%$ sul test set.\n",
    "\n",
    "In ogni caso la differenza tra test set e train set è sempre minore del $15\\%$"
   ]
  },
  {
   "cell_type": "markdown",
   "id": "69ed001f",
   "metadata": {},
   "source": [
    "### Learning curve\n",
    "\n",
    "Per questo modello, costruisco la learning curve (per completezza)"
   ]
  },
  {
   "cell_type": "code",
   "execution_count": 17,
   "id": "282c090b",
   "metadata": {},
   "outputs": [
    {
     "data": {
      "image/png": "[encoded data removed]",
      "text/plain": [
       "<Figure size 1600x1440 with 1 Axes>"
      ]
     },
     "metadata": {},
     "output_type": "display_data"
    }
   ],
   "source": [
    "import matplotlib.pyplot as plt\n",
    "from sklearn.model_selection import learning_curve\n",
    "\n",
    "train_size_abs, train_scores, test_scores = learning_curve(\n",
    "    Ridge(alpha=10.),X,y\n",
    ")\n",
    "\n",
    "plt.figure(figsize=(20,18),dpi=80)\n",
    "\n",
    "plt.plot(train_size_abs,train_scores.mean(axis=1),label=\"Train set\")\n",
    "plt.plot(train_size_abs,test_scores.mean(axis=1),label=\"Test set\")\n",
    "plt.legend()\n",
    "plt.show()"
   ]
  },
  {
   "cell_type": "code",
   "execution_count": null,
   "id": "297cd782",
   "metadata": {},
   "outputs": [],
   "source": []
  }
 ],
 "metadata": {
  "kernelspec": {
   "display_name": "Python 3 (ipykernel)",
   "language": "python",
   "name": "python3"
  },
  "language_info": {
   "codemirror_mode": {
    "name": "ipython",
    "version": 3
   },
   "file_extension": ".py",
   "mimetype": "text/x-python",
   "name": "python",
   "nbconvert_exporter": "python",
   "pygments_lexer": "ipython3",
   "version": "3.11.5"
  }
 },
 "nbformat": 4,
 "nbformat_minor": 5
}
